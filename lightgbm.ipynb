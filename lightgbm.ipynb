{
 "cells": [
  {
   "cell_type": "code",
   "execution_count": 57,
   "metadata": {},
   "outputs": [
    {
     "name": "stdout",
     "output_type": "stream",
     "text": [
      "data_test.csv\n",
      "data_train.csv\n",
      "readme\n",
      "\n"
     ]
    }
   ],
   "source": [
    "import lightgbm as lgb\n",
    "from scipy import sparse as ssp\n",
    "from sklearn.model_selection import StratifiedKFold, train_test_split\n",
    "import numpy as np\n",
    "import pandas as pd\n",
    "from sklearn.preprocessing import LabelEncoder\n",
    "from sklearn.preprocessing import OneHotEncoder\n",
    "from sklearn.metrics import f1_score, cohen_kappa_score, confusion_matrix\n",
    "from subprocess import check_output\n",
    "print(check_output(['ls', 'ds_data']).decode('utf-8'))"
   ]
  },
  {
   "cell_type": "code",
   "execution_count": 34,
   "metadata": {
    "collapsed": true
   },
   "outputs": [],
   "source": [
    "train = pd.read_csv(\"ds_data/data_train.csv\")\n",
    "test = pd.read_csv(\"ds_data/data_test.csv\")"
   ]
  },
  {
   "cell_type": "code",
   "execution_count": 35,
   "metadata": {},
   "outputs": [],
   "source": [
    "train_id = train.id.values\n",
    "y_train = train.target.values\n",
    "train.drop(['id', 'target'], inplace=True, axis=1)\n",
    "#print(\"train {0} and target {1}\".format(train.shape, target.shape))\n",
    "\n",
    "test_id = test.id.values\n",
    "test.drop(['id'], inplace=True, axis=1)\n",
    "#print(\"test {0} and id {1}\".format(test.shape, test_id.shape))"
   ]
  },
  {
   "cell_type": "code",
   "execution_count": 36,
   "metadata": {
    "collapsed": true
   },
   "outputs": [],
   "source": [
    "null_cols =  [c for c in train.columns if train[c].isnull().sum() != 0]\n",
    "for col in null_cols:\n",
    "    train[col] = train[col].fillna(-1.0)   \n",
    "    test[col]  = test[col].fillna(-1.0)"
   ]
  },
  {
   "cell_type": "code",
   "execution_count": 37,
   "metadata": {
    "collapsed": true
   },
   "outputs": [],
   "source": [
    "train['missing'] = (train==-1).sum(axis=1).astype(float)\n",
    "test['missing'] = (test==-1).sum(axis=1).astype(float)"
   ]
  },
  {
   "cell_type": "code",
   "execution_count": 38,
   "metadata": {
    "collapsed": true
   },
   "outputs": [],
   "source": [
    "cat_features = [c for c in train.columns if train[c].nunique() < 10]\n",
    "cat_features.remove('missing')"
   ]
  },
  {
   "cell_type": "code",
   "execution_count": 39,
   "metadata": {},
   "outputs": [],
   "source": [
    "for c in cat_features:\n",
    "    le = LabelEncoder()\n",
    "    le.fit(train[c])\n",
    "    train[c] = le.transform(train[c])     \n",
    "    test[c] = le.transform(test[c])"
   ]
  },
  {
   "cell_type": "code",
   "execution_count": 40,
   "metadata": {
    "collapsed": true
   },
   "outputs": [],
   "source": [
    "enc = OneHotEncoder(categories='auto')\n",
    "enc.fit(train[cat_features])\n",
    "train_cat = enc.transform(train[cat_features])\n",
    "test_cat = enc.transform(test[cat_features])"
   ]
  },
  {
   "cell_type": "code",
   "execution_count": 41,
   "metadata": {},
   "outputs": [
    {
     "data": {
      "text/plain": [
       "24"
      ]
     },
     "execution_count": 41,
     "metadata": {},
     "output_type": "execute_result"
    }
   ],
   "source": [
    "num_features = [c for c in train.columns if train[c].nunique() >= 10]\n",
    "len(num_features)"
   ]
  },
  {
   "cell_type": "code",
   "execution_count": 42,
   "metadata": {
    "collapsed": true
   },
   "outputs": [],
   "source": [
    "cnt = 0\n",
    "for c in num_features:\n",
    "    if cnt == 0:\n",
    "        train['new_num'] = train[c].astype(str)+'_'        \n",
    "        test['new_num'] = test[c].astype(str)+'_'\n",
    "        cnt += 1\n",
    "    else:\n",
    "        train['new_num'] = train[c].astype(str)+'_'        \n",
    "        test['new_num'] += test[c].astype(str)+'_'\n"
   ]
  },
  {
   "cell_type": "code",
   "execution_count": 43,
   "metadata": {
    "collapsed": true
   },
   "outputs": [],
   "source": [
    "cat_cnt_features = []\n",
    "for c in cat_features +['new_num']:\n",
    "    d = pd.concat([train[c], test[c]]).value_counts().to_dict()\n",
    "    train['%s_cnt'%c] = train[c].apply(lambda x : d.get(x,0))    \n",
    "    test['%s_cnt'%c] = test[c].apply(lambda x : d.get(x,0))\n",
    "    cat_cnt_features.append('%s_cnt'%c)"
   ]
  },
  {
   "cell_type": "code",
   "execution_count": 44,
   "metadata": {
    "collapsed": true
   },
   "outputs": [],
   "source": [
    "train_list = [train[num_features + cat_cnt_features].values, train_cat]\n",
    "test_list = [test[num_features + cat_cnt_features].values, test_cat]"
   ]
  },
  {
   "cell_type": "code",
   "execution_count": 45,
   "metadata": {
    "collapsed": true
   },
   "outputs": [],
   "source": [
    "X = ssp.hstack(train_list).tocsr()\n",
    "org_test =  ssp.hstack(test_list).tocsr()"
   ]
  },
  {
   "cell_type": "code",
   "execution_count": 46,
   "metadata": {
    "collapsed": true
   },
   "outputs": [],
   "source": [
    "X_train, X_test, y_train, y_test = train_test_split(X, y_train, test_size = 0.4, random_state=13)"
   ]
  },
  {
   "cell_type": "code",
   "execution_count": 47,
   "metadata": {},
   "outputs": [
    {
     "name": "stdout",
     "output_type": "stream",
     "text": [
      "(596000, 167) (238400, 167) (892816, 167)\n"
     ]
    }
   ],
   "source": [
    "print(X.shape, X_test.shape, org_test.shape)"
   ]
  },
  {
   "cell_type": "code",
   "execution_count": 48,
   "metadata": {
    "collapsed": true
   },
   "outputs": [],
   "source": [
    "lgb_params = {\n",
    "    \"objective\": \"binary\",\n",
    "    \"boosting_type\": \"gbdt\",\n",
    "    \"learning_rate\": 0.04,\n",
    "    \"num_leaves\": 15,\n",
    "    \"max_bin\": 256,\n",
    "    \"feature_fraction\": 0.7,\n",
    "    \"verbosity\": 0,\n",
    "    \"drop_rate\": 0.1,\n",
    "    \"is_unbalance\": False,\n",
    "    \"max_drop\": 50,\n",
    "    \"min_child_samples\": 10,\n",
    "    \"min_child_weight\": 150,\n",
    "    \"min_split_gain\": 0,\n",
    "    \"subsample\": 0.9,\n",
    "    \"metric\": \"auc\"    \n",
    "     }"
   ]
  },
  {
   "cell_type": "code",
   "execution_count": 49,
   "metadata": {
    "collapsed": true
   },
   "outputs": [],
   "source": [
    "X_tr, X_val, y_tr, y_val = train_test_split(X_train, y_train, test_size = 0.3, random_state=13)"
   ]
  },
  {
   "cell_type": "code",
   "execution_count": 51,
   "metadata": {
    "collapsed": true
   },
   "outputs": [],
   "source": [
    "dtrain = lgb.Dataset(data=X_tr, label=y_tr)\n",
    "dvalid = lgb.Dataset(data=X_val, label=y_val)"
   ]
  },
  {
   "cell_type": "code",
   "execution_count": null,
   "metadata": {
    "collapsed": true
   },
   "outputs": [],
   "source": []
  },
  {
   "cell_type": "code",
   "execution_count": 52,
   "metadata": {},
   "outputs": [
    {
     "name": "stdout",
     "output_type": "stream",
     "text": [
      "Training until validation scores don't improve for 50 rounds.\n",
      "[20]\ttrain's auc: 0.625847\tvalid's auc: 0.61454\n",
      "[40]\ttrain's auc: 0.628792\tvalid's auc: 0.618417\n",
      "[60]\ttrain's auc: 0.632133\tvalid's auc: 0.620825\n",
      "[80]\ttrain's auc: 0.637778\tvalid's auc: 0.626601\n",
      "[100]\ttrain's auc: 0.643418\tvalid's auc: 0.630594\n",
      "[120]\ttrain's auc: 0.648778\tvalid's auc: 0.633076\n",
      "[140]\ttrain's auc: 0.653245\tvalid's auc: 0.635529\n",
      "[160]\ttrain's auc: 0.657206\tvalid's auc: 0.637076\n",
      "[180]\ttrain's auc: 0.660755\tvalid's auc: 0.637964\n",
      "[200]\ttrain's auc: 0.664344\tvalid's auc: 0.638873\n",
      "[220]\ttrain's auc: 0.667453\tvalid's auc: 0.639072\n",
      "[240]\ttrain's auc: 0.670626\tvalid's auc: 0.639598\n",
      "[260]\ttrain's auc: 0.673547\tvalid's auc: 0.639982\n",
      "[280]\ttrain's auc: 0.676468\tvalid's auc: 0.640019\n",
      "[300]\ttrain's auc: 0.679215\tvalid's auc: 0.640215\n",
      "[320]\ttrain's auc: 0.681869\tvalid's auc: 0.640124\n",
      "[340]\ttrain's auc: 0.684165\tvalid's auc: 0.639987\n",
      "Early stopping, best iteration is:\n",
      "[307]\ttrain's auc: 0.680148\tvalid's auc: 0.640309\n"
     ]
    }
   ],
   "source": [
    "model = lgb.train(params=lgb_params,\n",
    "                  train_set=dtrain,\n",
    "                  num_boost_round=1000,\n",
    "                  valid_sets= [dtrain, dvalid],\n",
    "                  valid_names = [\"train\", \"valid\"],\n",
    "                  verbose_eval=20,\n",
    "                  early_stopping_rounds=50\n",
    "                 )"
   ]
  },
  {
   "cell_type": "code",
   "execution_count": 54,
   "metadata": {
    "collapsed": true
   },
   "outputs": [],
   "source": [
    "test_pred = model.predict(X_test)"
   ]
  },
  {
   "cell_type": "code",
   "execution_count": 55,
   "metadata": {
    "collapsed": true
   },
   "outputs": [],
   "source": [
    "test_pred = np.where(test_pred >= 0.5, 1, 0)"
   ]
  },
  {
   "cell_type": "code",
   "execution_count": 58,
   "metadata": {},
   "outputs": [
    {
     "data": {
      "text/plain": [
       "array([[229649,      0],\n",
       "       [  8751,      0]])"
      ]
     },
     "execution_count": 58,
     "metadata": {},
     "output_type": "execute_result"
    }
   ],
   "source": [
    "confusion_matrix(y_test, test_pred)"
   ]
  },
  {
   "cell_type": "code",
   "execution_count": null,
   "metadata": {
    "collapsed": true
   },
   "outputs": [],
   "source": []
  }
 ],
 "metadata": {
  "kernelspec": {
   "display_name": "Python 3",
   "language": "python",
   "name": "python3"
  },
  "language_info": {
   "codemirror_mode": {
    "name": "ipython",
    "version": 3
   },
   "file_extension": ".py",
   "mimetype": "text/x-python",
   "name": "python",
   "nbconvert_exporter": "python",
   "pygments_lexer": "ipython3",
   "version": "3.5.2"
  }
 },
 "nbformat": 4,
 "nbformat_minor": 2
}
