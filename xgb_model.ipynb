{
 "cells": [
  {
   "cell_type": "code",
   "execution_count": 1,
   "metadata": {},
   "outputs": [
    {
     "name": "stdout",
     "output_type": "stream",
     "text": [
      "data_test.csv\n",
      "data_train.csv\n",
      "readme\n",
      "\n"
     ]
    }
   ],
   "source": [
    "import numpy as np\n",
    "import pandas as pd\n",
    "import matplotlib.pyplot as plt\n",
    "%matplotlib inline\n",
    "import time\n",
    "import gc\n",
    "import xgboost as xgb\n",
    "from category_encoders import OneHotEncoder\n",
    "from sklearn.metrics import f1_score, cohen_kappa_score, confusion_matrix\n",
    "from sklearn.model_selection import train_test_split\n",
    "from sklearn.utils import resample\n",
    "from subprocess import check_output\n",
    "print(check_output(['ls', 'ds_data']).decode('utf-8'))"
   ]
  },
  {
   "cell_type": "code",
   "execution_count": 2,
   "metadata": {
    "collapsed": true
   },
   "outputs": [],
   "source": [
    "np.random.seed(13)"
   ]
  },
  {
   "cell_type": "code",
   "execution_count": 3,
   "metadata": {
    "collapsed": true
   },
   "outputs": [],
   "source": [
    "train = pd.read_csv(\"ds_data/data_train.csv\")\n",
    "test = pd.read_csv(\"ds_data/data_test.csv\")"
   ]
  },
  {
   "cell_type": "code",
   "execution_count": 4,
   "metadata": {},
   "outputs": [],
   "source": [
    "train_id = train.id.values\n",
    "target = train.target.values\n",
    "train.drop(['id', 'target'], inplace=True, axis=1)\n",
    "#print(\"train {0} and target {1}\".format(train.shape, target.shape))\n",
    "\n",
    "test_id = test.id.values\n",
    "test.drop(['id'], inplace=True, axis=1)\n",
    "#print(\"test {0} and id {1}\".format(test.shape, test_id.shape))"
   ]
  },
  {
   "cell_type": "markdown",
   "metadata": {},
   "source": [
    "#dropping colunms with 99% with one unique value\n",
    "train.drop(['num7', 'num8', 'num9'], inplace=True, axis=1)\n",
    "test.drop(['num7', 'num8', 'num9'], inplace=True, axis=1)\n",
    "print(\"train {0} and test {1}\".format(train.shape, test.shape))"
   ]
  },
  {
   "cell_type": "code",
   "execution_count": 5,
   "metadata": {
    "collapsed": true
   },
   "outputs": [],
   "source": [
    "#filling null with -1\n",
    "null_cols =  [c for c in train.columns if train[c].isnull().sum() != 0]\n",
    "for col in null_cols:\n",
    "    train[col] = train[col].fillna(-1.0)\n",
    "    test[col]  = test[col].fillna(-1.0)"
   ]
  },
  {
   "cell_type": "code",
   "execution_count": 6,
   "metadata": {},
   "outputs": [
    {
     "name": "stdout",
     "output_type": "stream",
     "text": [
      "train (596000, 84) and test (892816, 84)\n"
     ]
    }
   ],
   "source": [
    "#one hot encodeing columns with less than 5 categories\n",
    "cat_with_less_5_nunique = [c for c in train.columns if train[c].nunique() < 5]\n",
    "encoder = OneHotEncoder(return_df=True, drop_invariant=True, cols=cat_with_less_5_nunique)\n",
    "\n",
    "train = encoder.fit_transform(train)\n",
    "test = encoder.fit_transform(test)\n",
    "print(\"train {0} and test {1}\".format(train.shape, test.shape))"
   ]
  },
  {
   "cell_type": "code",
   "execution_count": 7,
   "metadata": {},
   "outputs": [
    {
     "name": "stdout",
     "output_type": "stream",
     "text": [
      "(387553, 85) (208447, 84)\n"
     ]
    }
   ],
   "source": [
    "#random split train set to train and validation \n",
    "train['target'] = target\n",
    "mask = np.random.rand(train.shape[0]) < 0.65\n",
    "X_train = train[mask].copy()\n",
    "X_test = train[~mask].copy()\n",
    "\n",
    "y_test = X_test.target.values\n",
    "X_test.drop(['target'], inplace=True, axis=1)\n",
    "print(X_train.shape, X_test.shape)"
   ]
  },
  {
   "cell_type": "code",
   "execution_count": 8,
   "metadata": {},
   "outputs": [
    {
     "data": {
      "text/plain": [
       "0    0.96351\n",
       "1    0.03649\n",
       "Name: target, dtype: float64"
      ]
     },
     "execution_count": 8,
     "metadata": {},
     "output_type": "execute_result"
    }
   ],
   "source": [
    "#del train, test\n",
    "#gc.collect()\n",
    "X_train.target.value_counts()/X_train.shape[0]"
   ]
  },
  {
   "cell_type": "code",
   "execution_count": 9,
   "metadata": {},
   "outputs": [
    {
     "data": {
      "text/plain": [
       "760"
      ]
     },
     "execution_count": 9,
     "metadata": {},
     "output_type": "execute_result"
    }
   ],
   "source": [
    "#down sampling Majority class to balance  \n",
    "train_majority = X_train[X_train['target'] == 0]\n",
    "train_minority = X_train[X_train['target'] == 1]\n",
    "\n",
    "train_majority_downsampled = resample(train_majority, replace=False, n_samples=30000, random_state=13)\n",
    "train_downsampled = pd.concat([train_majority_downsampled, train_minority])\n",
    "del train_majority,train_minority, train_majority_downsampled\n",
    "gc.collect()"
   ]
  },
  {
   "cell_type": "code",
   "execution_count": 10,
   "metadata": {},
   "outputs": [
    {
     "data": {
      "text/plain": [
       "0    0.679625\n",
       "1    0.320375\n",
       "Name: target, dtype: float64"
      ]
     },
     "execution_count": 10,
     "metadata": {},
     "output_type": "execute_result"
    }
   ],
   "source": [
    "train_downsampled.target.value_counts() /train_downsampled.shape[0]"
   ]
  },
  {
   "cell_type": "code",
   "execution_count": 11,
   "metadata": {},
   "outputs": [
    {
     "data": {
      "text/plain": [
       "(44142, 85)"
      ]
     },
     "execution_count": 11,
     "metadata": {},
     "output_type": "execute_result"
    }
   ],
   "source": [
    "train_downsampled.shape"
   ]
  },
  {
   "cell_type": "code",
   "execution_count": 12,
   "metadata": {},
   "outputs": [
    {
     "data": {
      "text/plain": [
       "0"
      ]
     },
     "execution_count": 12,
     "metadata": {},
     "output_type": "execute_result"
    }
   ],
   "source": [
    "y = train_downsampled.target.values\n",
    "X = train_downsampled.drop(['target'], axis=1)\n",
    "\n",
    "del train_downsampled; gc.collect()"
   ]
  },
  {
   "cell_type": "code",
   "execution_count": 13,
   "metadata": {},
   "outputs": [
    {
     "name": "stdout",
     "output_type": "stream",
     "text": [
      "(44142, 84) (208447, 84)\n"
     ]
    }
   ],
   "source": [
    "print(X.shape, X_test.shape)"
   ]
  },
  {
   "cell_type": "code",
   "execution_count": 14,
   "metadata": {},
   "outputs": [
    {
     "name": "stdout",
     "output_type": "stream",
     "text": [
      "(26485, 84) (17657, 84) (26485,) (17657,)\n",
      "0 : 18021, 1 : 8464\n"
     ]
    }
   ],
   "source": [
    "X_tr, X_val, y_tr, y_val = train_test_split(X, y, test_size=0.4, random_state=13)\n",
    "print(X_tr.shape, X_val.shape, y_tr.shape, y_val.shape)\n",
    "#in training set over sampling Minority and balanceing by SMOTE-Tomex\n",
    "#sm = SMOTETomek(random_state=13)\n",
    "#X_res, y_res = sm.fit_sample(X_tr, y_tr)\n",
    "print(\"0 : {0}, 1 : {1}\".format((y_tr==0).sum(), (y_tr==1).sum()))\n",
    "#print(X_res.shape, y_res.shape)"
   ]
  },
  {
   "cell_type": "code",
   "execution_count": 15,
   "metadata": {},
   "outputs": [],
   "source": [
    "dtrain = xgb.DMatrix(data = X_tr, label= y_tr)\n",
    "dvalid = xgb.DMatrix(data = X_val, label=y_val)\n",
    "dXtest = xgb.DMatrix(data = X_test)"
   ]
  },
  {
   "cell_type": "code",
   "execution_count": 16,
   "metadata": {
    "collapsed": true
   },
   "outputs": [],
   "source": [
    "xgb_params = {\n",
    "    'booster': 'gbtree',\n",
    "    'learning_rate': 0.02,\n",
    "    'max_depth': 4,\n",
    "    'min_child_weight':10,\n",
    "    'gamma':10,\n",
    "    'subsample':0.8,\n",
    "    'tree_method': 'hist',\n",
    "    'colsample_bytree':0.7,\n",
    "    'grow_ploicy':'lossguide',\n",
    "    'objective':'binary:logistic',\n",
    "    'eval_metric':'auc',\n",
    "    #'rate_drop':0.8, #dart booster\n",
    "    #'one_drop':0, #dart booster    \n",
    "    #'skip_drop':0.9, #dart booster \n",
    "    'silent': 1\n",
    "}"
   ]
  },
  {
   "cell_type": "code",
   "execution_count": 17,
   "metadata": {},
   "outputs": [
    {
     "name": "stdout",
     "output_type": "stream",
     "text": [
      "[16:29:49] Tree method is selected to be 'hist', which uses a single updater grow_fast_histmaker.\n",
      "[0]\ttrain-auc:0.591511\tvalid-auc:0.586705\n",
      "Multiple eval metrics have been passed: 'valid-auc' will be used for early stopping.\n",
      "\n",
      "Will train until valid-auc hasn't improved in 50 rounds.\n",
      "[20]\ttrain-auc:0.626259\tvalid-auc:0.622423\n",
      "[40]\ttrain-auc:0.633154\tvalid-auc:0.628253\n",
      "[60]\ttrain-auc:0.637098\tvalid-auc:0.631609\n",
      "[80]\ttrain-auc:0.640298\tvalid-auc:0.63388\n",
      "[100]\ttrain-auc:0.643342\tvalid-auc:0.636067\n",
      "[120]\ttrain-auc:0.645676\tvalid-auc:0.63776\n",
      "[140]\ttrain-auc:0.647824\tvalid-auc:0.639094\n",
      "[160]\ttrain-auc:0.649247\tvalid-auc:0.639564\n",
      "[180]\ttrain-auc:0.650838\tvalid-auc:0.639888\n",
      "[200]\ttrain-auc:0.652204\tvalid-auc:0.64034\n",
      "[220]\ttrain-auc:0.653502\tvalid-auc:0.640397\n",
      "[240]\ttrain-auc:0.654512\tvalid-auc:0.640755\n",
      "[260]\ttrain-auc:0.655391\tvalid-auc:0.640942\n",
      "[280]\ttrain-auc:0.656311\tvalid-auc:0.641138\n",
      "[300]\ttrain-auc:0.657337\tvalid-auc:0.641134\n",
      "[320]\ttrain-auc:0.658136\tvalid-auc:0.641515\n",
      "[340]\ttrain-auc:0.658673\tvalid-auc:0.641577\n",
      "[360]\ttrain-auc:0.659167\tvalid-auc:0.641499\n",
      "[380]\ttrain-auc:0.659754\tvalid-auc:0.641615\n",
      "[400]\ttrain-auc:0.660346\tvalid-auc:0.641482\n",
      "[420]\ttrain-auc:0.661129\tvalid-auc:0.641297\n",
      "Stopping. Best iteration:\n",
      "[378]\ttrain-auc:0.65967\tvalid-auc:0.641657\n",
      "\n"
     ]
    }
   ],
   "source": [
    "model = xgb.train(xgb_params,\n",
    "                 dtrain=dtrain,\n",
    "                 num_boost_round=1000,\n",
    "                 evals = [(dtrain, 'train'), (dvalid, 'valid')],\n",
    "                 maximize = True,\n",
    "                 verbose_eval = 20,\n",
    "                 early_stopping_rounds = 50)\n"
   ]
  },
  {
   "cell_type": "code",
   "execution_count": 18,
   "metadata": {
    "collapsed": true
   },
   "outputs": [],
   "source": [
    "test_pred = model.predict(dXtest, )\n",
    "\n",
    "test_pred = np.where(test_pred >= 0.5, 1, 0)"
   ]
  },
  {
   "cell_type": "code",
   "execution_count": 19,
   "metadata": {},
   "outputs": [
    {
     "data": {
      "text/plain": [
       "array([[194267,   6606],\n",
       "       [  6884,    690]])"
      ]
     },
     "execution_count": 19,
     "metadata": {},
     "output_type": "execute_result"
    }
   ],
   "source": [
    "confusion_matrix(y_test, test_pred)"
   ]
  },
  {
   "cell_type": "code",
   "execution_count": 20,
   "metadata": {},
   "outputs": [
    {
     "data": {
      "text/plain": [
       "7574"
      ]
     },
     "execution_count": 20,
     "metadata": {},
     "output_type": "execute_result"
    }
   ],
   "source": [
    "sum(y_test == 1)"
   ]
  },
  {
   "cell_type": "code",
   "execution_count": 21,
   "metadata": {},
   "outputs": [
    {
     "data": {
      "text/plain": [
       "0.09280430396772024"
      ]
     },
     "execution_count": 21,
     "metadata": {},
     "output_type": "execute_result"
    }
   ],
   "source": [
    "f1_score(y_test, test_pred)"
   ]
  },
  {
   "cell_type": "code",
   "execution_count": 22,
   "metadata": {},
   "outputs": [
    {
     "data": {
      "text/plain": [
       "0.0592612550723941"
      ]
     },
     "execution_count": 22,
     "metadata": {},
     "output_type": "execute_result"
    }
   ],
   "source": [
    "cohen_kappa_score(y_test, test_pred)"
   ]
  },
  {
   "cell_type": "code",
   "execution_count": 23,
   "metadata": {},
   "outputs": [],
   "source": [
    "#xgb.plot_importance(model)"
   ]
  },
  {
   "cell_type": "code",
   "execution_count": 24,
   "metadata": {},
   "outputs": [],
   "source": [
    "fscore = model.get_fscore()\n",
    "xgb_imp = pd.DataFrame({\"feat_name\": list(fscore.keys()), \"score\": list(fscore.values())})\n",
    "imp_feat = xgb_imp.sort_values(by='score', ascending=False).head(15)['feat_name'].tolist()"
   ]
  },
  {
   "cell_type": "code",
   "execution_count": 25,
   "metadata": {
    "collapsed": true
   },
   "outputs": [],
   "source": [
    "dtrain = xgb.DMatrix(data = X_tr[imp_feat], label= y_tr)\n",
    "dvalid = xgb.DMatrix(data = X_val[imp_feat], label=y_val)\n",
    "dXtest = xgb.DMatrix(data = X_test[imp_feat])"
   ]
  },
  {
   "cell_type": "code",
   "execution_count": 26,
   "metadata": {},
   "outputs": [
    {
     "name": "stdout",
     "output_type": "stream",
     "text": [
      "[16:29:54] Tree method is selected to be 'hist', which uses a single updater grow_fast_histmaker.\n",
      "[0]\ttrain-auc:0.59518\tvalid-auc:0.588159\n",
      "Multiple eval metrics have been passed: 'valid-auc' will be used for early stopping.\n",
      "\n",
      "Will train until valid-auc hasn't improved in 50 rounds.\n",
      "[20]\ttrain-auc:0.623404\tvalid-auc:0.617979\n",
      "[40]\ttrain-auc:0.627963\tvalid-auc:0.621834\n",
      "[60]\ttrain-auc:0.630687\tvalid-auc:0.623862\n",
      "[80]\ttrain-auc:0.63356\tvalid-auc:0.626066\n",
      "[100]\ttrain-auc:0.635376\tvalid-auc:0.62808\n",
      "[120]\ttrain-auc:0.637507\tvalid-auc:0.629557\n",
      "[140]\ttrain-auc:0.638678\tvalid-auc:0.630803\n",
      "[160]\ttrain-auc:0.639845\tvalid-auc:0.631325\n",
      "[180]\ttrain-auc:0.641244\tvalid-auc:0.6321\n",
      "[200]\ttrain-auc:0.642021\tvalid-auc:0.632673\n",
      "[220]\ttrain-auc:0.642608\tvalid-auc:0.633017\n",
      "[240]\ttrain-auc:0.643262\tvalid-auc:0.633179\n",
      "[260]\ttrain-auc:0.643785\tvalid-auc:0.63363\n",
      "[280]\ttrain-auc:0.644465\tvalid-auc:0.633891\n",
      "[300]\ttrain-auc:0.645101\tvalid-auc:0.634045\n",
      "[320]\ttrain-auc:0.645436\tvalid-auc:0.634171\n",
      "[340]\ttrain-auc:0.645873\tvalid-auc:0.63427\n",
      "[360]\ttrain-auc:0.646415\tvalid-auc:0.634387\n",
      "[380]\ttrain-auc:0.646652\tvalid-auc:0.63442\n",
      "[400]\ttrain-auc:0.646925\tvalid-auc:0.634435\n",
      "[420]\ttrain-auc:0.647306\tvalid-auc:0.634459\n",
      "[440]\ttrain-auc:0.647533\tvalid-auc:0.634528\n",
      "[460]\ttrain-auc:0.647712\tvalid-auc:0.634622\n",
      "[480]\ttrain-auc:0.648138\tvalid-auc:0.634816\n",
      "[500]\ttrain-auc:0.648497\tvalid-auc:0.634838\n",
      "[520]\ttrain-auc:0.64878\tvalid-auc:0.634833\n",
      "[540]\ttrain-auc:0.649033\tvalid-auc:0.634937\n",
      "[560]\ttrain-auc:0.649338\tvalid-auc:0.634889\n",
      "[580]\ttrain-auc:0.649408\tvalid-auc:0.634914\n",
      "Stopping. Best iteration:\n",
      "[547]\ttrain-auc:0.649173\tvalid-auc:0.634968\n",
      "\n"
     ]
    }
   ],
   "source": [
    "model = xgb.train(xgb_params,\n",
    "                 dtrain=dtrain,\n",
    "                 num_boost_round=1000,\n",
    "                 evals = [(dtrain, 'train'), (dvalid, 'valid')],\n",
    "                 maximize = True,\n",
    "                 verbose_eval = 20,\n",
    "                 early_stopping_rounds = 50)"
   ]
  },
  {
   "cell_type": "code",
   "execution_count": 27,
   "metadata": {
    "collapsed": true
   },
   "outputs": [],
   "source": [
    "test_pred = model.predict(dXtest)\n",
    "\n",
    "test_pred = np.where(test_pred >= 0.5, 1, 0)"
   ]
  },
  {
   "cell_type": "code",
   "execution_count": 28,
   "metadata": {},
   "outputs": [
    {
     "data": {
      "text/plain": [
       "array([[194987,   5886],\n",
       "       [  6961,    613]])"
      ]
     },
     "execution_count": 28,
     "metadata": {},
     "output_type": "execute_result"
    }
   ],
   "source": [
    "confusion_matrix(y_test, test_pred)"
   ]
  },
  {
   "cell_type": "code",
   "execution_count": 29,
   "metadata": {},
   "outputs": [
    {
     "data": {
      "text/plain": [
       "0.08711717473175584"
      ]
     },
     "execution_count": 29,
     "metadata": {},
     "output_type": "execute_result"
    }
   ],
   "source": [
    "f1_score(y_test, test_pred)"
   ]
  },
  {
   "cell_type": "code",
   "execution_count": 30,
   "metadata": {
    "collapsed": true
   },
   "outputs": [],
   "source": [
    "from sklearn.ensemble import RandomForestClassifier\n",
    "\n",
    "rf = RandomForestClassifier(n_estimators=1000, n_jobs=-1, max_depth=4, random_state=13)"
   ]
  },
  {
   "cell_type": "code",
   "execution_count": 31,
   "metadata": {},
   "outputs": [
    {
     "data": {
      "text/plain": [
       "RandomForestClassifier(bootstrap=True, class_weight=None, criterion='gini',\n",
       "            max_depth=4, max_features='auto', max_leaf_nodes=None,\n",
       "            min_impurity_decrease=0.0, min_impurity_split=None,\n",
       "            min_samples_leaf=1, min_samples_split=2,\n",
       "            min_weight_fraction_leaf=0.0, n_estimators=1000, n_jobs=-1,\n",
       "            oob_score=False, random_state=13, verbose=0, warm_start=False)"
      ]
     },
     "execution_count": 31,
     "metadata": {},
     "output_type": "execute_result"
    }
   ],
   "source": [
    "rf.fit(X, y)"
   ]
  },
  {
   "cell_type": "code",
   "execution_count": 32,
   "metadata": {},
   "outputs": [
    {
     "data": {
      "text/plain": [
       "0.67961714900606"
      ]
     },
     "execution_count": 32,
     "metadata": {},
     "output_type": "execute_result"
    }
   ],
   "source": [
    "rf.score(X_val, y_val)"
   ]
  },
  {
   "cell_type": "code",
   "execution_count": 33,
   "metadata": {},
   "outputs": [],
   "source": [
    "rf_pred_test = rf.predict(X_test)"
   ]
  },
  {
   "cell_type": "code",
   "execution_count": 34,
   "metadata": {
    "collapsed": true
   },
   "outputs": [],
   "source": [
    "test_pred = (test_pred + rf_pred_test)/2"
   ]
  },
  {
   "cell_type": "code",
   "execution_count": 35,
   "metadata": {},
   "outputs": [
    {
     "data": {
      "text/plain": [
       "array([[200712,    161],\n",
       "       [  7540,     34]])"
      ]
     },
     "execution_count": 35,
     "metadata": {},
     "output_type": "execute_result"
    }
   ],
   "source": [
    "confusion_matrix(y_test, rf_pred_test)"
   ]
  },
  {
   "cell_type": "code",
   "execution_count": 36,
   "metadata": {},
   "outputs": [
    {
     "data": {
      "text/plain": [
       "array([0., 0., 0., ..., 0., 0., 0.])"
      ]
     },
     "execution_count": 36,
     "metadata": {},
     "output_type": "execute_result"
    }
   ],
   "source": [
    "test_pred"
   ]
  },
  {
   "cell_type": "code",
   "execution_count": 37,
   "metadata": {},
   "outputs": [
    {
     "data": {
      "text/plain": [
       "array([0, 0, 0, ..., 0, 0, 0])"
      ]
     },
     "execution_count": 37,
     "metadata": {},
     "output_type": "execute_result"
    }
   ],
   "source": [
    "rf_pred_test"
   ]
  },
  {
   "cell_type": "code",
   "execution_count": 38,
   "metadata": {},
   "outputs": [
    {
     "data": {
      "text/html": [
       "<div>\n",
       "<style>\n",
       "    .dataframe thead tr:only-child th {\n",
       "        text-align: right;\n",
       "    }\n",
       "\n",
       "    .dataframe thead th {\n",
       "        text-align: left;\n",
       "    }\n",
       "\n",
       "    .dataframe tbody tr th {\n",
       "        vertical-align: top;\n",
       "    }\n",
       "</style>\n",
       "<table border=\"1\" class=\"dataframe\">\n",
       "  <thead>\n",
       "    <tr style=\"text-align: right;\">\n",
       "      <th></th>\n",
       "      <th>feat_name</th>\n",
       "      <th>score</th>\n",
       "    </tr>\n",
       "  </thead>\n",
       "  <tbody>\n",
       "    <tr>\n",
       "      <th>60</th>\n",
       "      <td>num21</td>\n",
       "      <td>0.142689</td>\n",
       "    </tr>\n",
       "    <tr>\n",
       "      <th>57</th>\n",
       "      <td>num18</td>\n",
       "      <td>0.081843</td>\n",
       "    </tr>\n",
       "    <tr>\n",
       "      <th>19</th>\n",
       "      <td>num14_1</td>\n",
       "      <td>0.058751</td>\n",
       "    </tr>\n",
       "    <tr>\n",
       "      <th>18</th>\n",
       "      <td>num14_0</td>\n",
       "      <td>0.058684</td>\n",
       "    </tr>\n",
       "    <tr>\n",
       "      <th>78</th>\n",
       "      <td>cat3</td>\n",
       "      <td>0.053752</td>\n",
       "    </tr>\n",
       "    <tr>\n",
       "      <th>2</th>\n",
       "      <td>num4_0</td>\n",
       "      <td>0.045511</td>\n",
       "    </tr>\n",
       "    <tr>\n",
       "      <th>56</th>\n",
       "      <td>num17</td>\n",
       "      <td>0.042880</td>\n",
       "    </tr>\n",
       "    <tr>\n",
       "      <th>3</th>\n",
       "      <td>num4_1</td>\n",
       "      <td>0.040213</td>\n",
       "    </tr>\n",
       "    <tr>\n",
       "      <th>1</th>\n",
       "      <td>num3_1</td>\n",
       "      <td>0.039262</td>\n",
       "    </tr>\n",
       "    <tr>\n",
       "      <th>0</th>\n",
       "      <td>num3_0</td>\n",
       "      <td>0.038930</td>\n",
       "    </tr>\n",
       "    <tr>\n",
       "      <th>80</th>\n",
       "      <td>cat7</td>\n",
       "      <td>0.038247</td>\n",
       "    </tr>\n",
       "    <tr>\n",
       "      <th>37</th>\n",
       "      <td>cat6_0</td>\n",
       "      <td>0.035085</td>\n",
       "    </tr>\n",
       "    <tr>\n",
       "      <th>52</th>\n",
       "      <td>num2</td>\n",
       "      <td>0.028507</td>\n",
       "    </tr>\n",
       "    <tr>\n",
       "      <th>43</th>\n",
       "      <td>cat10_0</td>\n",
       "      <td>0.025828</td>\n",
       "    </tr>\n",
       "    <tr>\n",
       "      <th>59</th>\n",
       "      <td>num20</td>\n",
       "      <td>0.023980</td>\n",
       "    </tr>\n",
       "  </tbody>\n",
       "</table>\n",
       "</div>"
      ],
      "text/plain": [
       "   feat_name     score\n",
       "60     num21  0.142689\n",
       "57     num18  0.081843\n",
       "19   num14_1  0.058751\n",
       "18   num14_0  0.058684\n",
       "78      cat3  0.053752\n",
       "2     num4_0  0.045511\n",
       "56     num17  0.042880\n",
       "3     num4_1  0.040213\n",
       "1     num3_1  0.039262\n",
       "0     num3_0  0.038930\n",
       "80      cat7  0.038247\n",
       "37    cat6_0  0.035085\n",
       "52      num2  0.028507\n",
       "43   cat10_0  0.025828\n",
       "59     num20  0.023980"
      ]
     },
     "execution_count": 38,
     "metadata": {},
     "output_type": "execute_result"
    }
   ],
   "source": [
    "rf_imp = pd.DataFrame({\"feat_name\": X.columns, \"score\":rf.feature_importances_})\n",
    "rf_imp.sort_values(by = 'score', ascending=False).head(15)"
   ]
  },
  {
   "cell_type": "code",
   "execution_count": 39,
   "metadata": {
    "collapsed": true
   },
   "outputs": [],
   "source": [
    "from sklearn.model_selection import cross_val_score\n",
    "scores = cross_val_score(rf, X, y, cv=5)"
   ]
  },
  {
   "cell_type": "code",
   "execution_count": 40,
   "metadata": {},
   "outputs": [
    {
     "data": {
      "text/plain": [
       "array([0.68014498, 0.68025824, 0.6803353 , 0.67976892, 0.68067512])"
      ]
     },
     "execution_count": 40,
     "metadata": {},
     "output_type": "execute_result"
    }
   ],
   "source": [
    "scores"
   ]
  },
  {
   "cell_type": "code",
   "execution_count": 41,
   "metadata": {
    "collapsed": true
   },
   "outputs": [],
   "source": [
    "from sklearn.linear_model import LogisticRegression\n",
    "lr = LogisticRegression(C=1e1, solver='lbfgs', max_iter=10000, random_state=13)"
   ]
  },
  {
   "cell_type": "code",
   "execution_count": 42,
   "metadata": {},
   "outputs": [
    {
     "data": {
      "text/plain": [
       "LogisticRegression(C=10.0, class_weight=None, dual=False, fit_intercept=True,\n",
       "          intercept_scaling=1, max_iter=10000, multi_class='warn',\n",
       "          n_jobs=None, penalty='l2', random_state=13, solver='lbfgs',\n",
       "          tol=0.0001, verbose=0, warm_start=False)"
      ]
     },
     "execution_count": 42,
     "metadata": {},
     "output_type": "execute_result"
    }
   ],
   "source": [
    "lr.fit(X, y)"
   ]
  },
  {
   "cell_type": "code",
   "execution_count": 43,
   "metadata": {},
   "outputs": [
    {
     "data": {
      "text/plain": [
       "0.9310664101666131"
      ]
     },
     "execution_count": 43,
     "metadata": {},
     "output_type": "execute_result"
    }
   ],
   "source": [
    "lr.score(X_test, y_test)"
   ]
  },
  {
   "cell_type": "code",
   "execution_count": 44,
   "metadata": {},
   "outputs": [],
   "source": [
    "lr_pred_test = lr.predict(X_test)"
   ]
  },
  {
   "cell_type": "code",
   "execution_count": 45,
   "metadata": {},
   "outputs": [
    {
     "data": {
      "text/plain": [
       "array([0, 0, 0, ..., 0, 0, 0])"
      ]
     },
     "execution_count": 45,
     "metadata": {},
     "output_type": "execute_result"
    }
   ],
   "source": [
    "lr_pred_test"
   ]
  },
  {
   "cell_type": "code",
   "execution_count": 46,
   "metadata": {},
   "outputs": [
    {
     "data": {
      "text/plain": [
       "array([[193393,   7480],\n",
       "       [  6889,    685]])"
      ]
     },
     "execution_count": 46,
     "metadata": {},
     "output_type": "execute_result"
    }
   ],
   "source": [
    "confusion_matrix(y_test, lr_pred_test)"
   ]
  },
  {
   "cell_type": "code",
   "execution_count": null,
   "metadata": {
    "collapsed": true
   },
   "outputs": [],
   "source": []
  }
 ],
 "metadata": {
  "kernelspec": {
   "display_name": "Python 3",
   "language": "python",
   "name": "python3"
  },
  "language_info": {
   "codemirror_mode": {
    "name": "ipython",
    "version": 3
   },
   "file_extension": ".py",
   "mimetype": "text/x-python",
   "name": "python",
   "nbconvert_exporter": "python",
   "pygments_lexer": "ipython3",
   "version": "3.5.2"
  }
 },
 "nbformat": 4,
 "nbformat_minor": 2
}
