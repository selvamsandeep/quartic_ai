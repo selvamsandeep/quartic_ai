{
 "cells": [
  {
   "cell_type": "code",
   "execution_count": 91,
   "metadata": {},
   "outputs": [
    {
     "name": "stdout",
     "output_type": "stream",
     "text": [
      "data_test.csv\n",
      "data_train.csv\n",
      "readme\n",
      "\n"
     ]
    }
   ],
   "source": [
    "import numpy as np\n",
    "import pandas as pd\n",
    "import matplotlib.pyplot as plt\n",
    "%matplotlib inline\n",
    "import time\n",
    "import gc\n",
    "import xgboost as xgb\n",
    "from category_encoders import OneHotEncoder\n",
    "from sklearn.metrics import f1_score, cohen_kappa_score\n",
    "from sklearn.model_selection import StratifiedKFold\n",
    "from sklearn.utils import resample\n",
    "from subprocess import check_output\n",
    "print(check_output(['ls', 'ds_data']).decode('utf-8'))\n",
    "SEED = 13"
   ]
  },
  {
   "cell_type": "code",
   "execution_count": 92,
   "metadata": {
    "collapsed": true
   },
   "outputs": [],
   "source": [
    "np.random.seed(SEED)"
   ]
  },
  {
   "cell_type": "code",
   "execution_count": 93,
   "metadata": {
    "collapsed": true
   },
   "outputs": [],
   "source": [
    "train = pd.read_csv(\"ds_data/data_train.csv\")\n",
    "test = pd.read_csv(\"ds_data/data_test.csv\")"
   ]
  },
  {
   "cell_type": "markdown",
   "metadata": {},
   "source": [
    "### composition of majority and minority class of target label of the orginal training set"
   ]
  },
  {
   "cell_type": "code",
   "execution_count": 94,
   "metadata": {},
   "outputs": [
    {
     "data": {
      "text/plain": [
       "0    0.963564\n",
       "1    0.036436\n",
       "Name: target, dtype: float64"
      ]
     },
     "execution_count": 94,
     "metadata": {},
     "output_type": "execute_result"
    }
   ],
   "source": [
    "train.target.value_counts()/train.shape[0]"
   ]
  },
  {
   "cell_type": "markdown",
   "metadata": {},
   "source": [
    "### Down sampling Majority class to balance  train set "
   ]
  },
  {
   "cell_type": "code",
   "execution_count": 95,
   "metadata": {},
   "outputs": [
    {
     "data": {
      "text/plain": [
       "2039"
      ]
     },
     "execution_count": 95,
     "metadata": {},
     "output_type": "execute_result"
    }
   ],
   "source": [
    "train_majority = train[train['target'] == 0]\n",
    "train_minority = train[train['target'] == 1]\n",
    "\n",
    "train_majority_downsampled = resample(train_majority, replace=False, n_samples=30000, random_state=13)\n",
    "train_downsampled = pd.concat([train_majority_downsampled, train_minority])\n",
    "del train_majority,train_minority, train_majority_downsampled\n",
    "gc.collect()"
   ]
  },
  {
   "cell_type": "code",
   "execution_count": 96,
   "metadata": {
    "collapsed": true
   },
   "outputs": [],
   "source": [
    "### composistion of "
   ]
  },
  {
   "cell_type": "code",
   "execution_count": 97,
   "metadata": {},
   "outputs": [
    {
     "data": {
      "text/plain": [
       "0    0.580091\n",
       "1    0.419909\n",
       "Name: target, dtype: float64"
      ]
     },
     "execution_count": 97,
     "metadata": {},
     "output_type": "execute_result"
    }
   ],
   "source": [
    "train_downsampled.target.value_counts() /train_downsampled.shape[0]"
   ]
  },
  {
   "cell_type": "code",
   "execution_count": 98,
   "metadata": {},
   "outputs": [
    {
     "data": {
      "text/plain": [
       "0"
      ]
     },
     "execution_count": 98,
     "metadata": {},
     "output_type": "execute_result"
    }
   ],
   "source": [
    "y = train_downsampled.target.values\n",
    "X = train_downsampled\n",
    "\n",
    "del train, train_downsampled; gc.collect()"
   ]
  },
  {
   "cell_type": "code",
   "execution_count": 99,
   "metadata": {
    "collapsed": true
   },
   "outputs": [],
   "source": [
    "train_id = X.id.values\n",
    "y = X.target.values\n",
    "X.drop(['id', 'target'], inplace=True, axis=1)\n",
    "#print(\"train {0} and target {1}\".format(train.shape, target.shape))\n",
    "\n",
    "test_id = test.id.values\n",
    "test.drop(['id'], inplace=True, axis=1)\n",
    "#print(\"test {0} and id {1}\".format(test.shape, test_id.shape))"
   ]
  },
  {
   "cell_type": "code",
   "execution_count": 100,
   "metadata": {
    "collapsed": true
   },
   "outputs": [],
   "source": [
    "#filling null with -1\n",
    "null_cols =  [c for c in X.columns if X[c].isnull().sum() != 0]\n",
    "for col in null_cols:\n",
    "    X[col] = X[col].fillna(-1.0)\n",
    "    test[col]  = test[col].fillna(-1.0)"
   ]
  },
  {
   "cell_type": "code",
   "execution_count": 101,
   "metadata": {},
   "outputs": [
    {
     "name": "stdout",
     "output_type": "stream",
     "text": [
      "train (51716, 87) and test (892816, 87)\n"
     ]
    }
   ],
   "source": [
    "#one hot encodeing columns with less than 5 categories\n",
    "cat_with_less_5_nunique = [c for c in X.columns if X[c].nunique() < 5]\n",
    "encoder = OneHotEncoder(return_df=True, drop_invariant=True, cols=cat_with_less_5_nunique)\n",
    "\n",
    "X = encoder.fit_transform(X)\n",
    "test = encoder.fit_transform(test)\n",
    "print(\"train {0} and test {1}\".format(X.shape, test.shape))"
   ]
  },
  {
   "cell_type": "code",
   "execution_count": 102,
   "metadata": {
    "collapsed": true
   },
   "outputs": [],
   "source": [
    "params = {\n",
    "    'booster': 'gbtree',\n",
    "    'learning_rate': 0.02,\n",
    "    'max_depth': 4,\n",
    "    'min_child_weight':10,\n",
    "    'gamma':10,\n",
    "    'subsample':0.8,\n",
    "    'tree_method': 'hist',\n",
    "    'colsample_bytree':0.7,\n",
    "    'grow_ploicy':'lossguide',\n",
    "    'objective':'binary:logistic',\n",
    "    'eval_metric':'auc',   \n",
    "    'silent': 1\n",
    "}"
   ]
  },
  {
   "cell_type": "code",
   "execution_count": 103,
   "metadata": {
    "collapsed": true
   },
   "outputs": [],
   "source": [
    "NFOLDS = 5\n",
    "kfold = StratifiedKFold(n_splits=NFOLDS, shuffle=True, random_state=SEED)\n",
    "X = X.values\n",
    "test = test.values\n",
    "\n",
    "dtest = xgb.DMatrix(data = test)"
   ]
  },
  {
   "cell_type": "code",
   "execution_count": 104,
   "metadata": {
    "collapsed": true
   },
   "outputs": [],
   "source": [
    "def f1(true, pred):\n",
    "    pred = np.where(pred >= 0.5, 1, 0)\n",
    "    return f1_score(true, pred)\n",
    "\n",
    "def custom_f1(pred, dmatix):\n",
    "    true = dmatix.get_label()\n",
    "    pred = np.where(pred >= 0.5, 1, 0)\n",
    "    return 'f1', f1_score(true, pred)"
   ]
  },
  {
   "cell_type": "markdown",
   "metadata": {},
   "source": [
    "###  Baggaing rounds 4  and 5 fold cross validation"
   ]
  },
  {
   "cell_type": "code",
   "execution_count": 105,
   "metadata": {
    "scrolled": true
   },
   "outputs": [
    {
     "name": "stdout",
     "output_type": "stream",
     "text": [
      "[18:38:03] Tree method is selected to be 'hist', which uses a single updater grow_fast_histmaker.\n",
      "[0]\ttrain-auc:0.603749\tvalid-auc:0.592493\n",
      "Multiple eval metrics have been passed: 'valid-auc' will be used for early stopping.\n",
      "\n",
      "Will train until valid-auc hasn't improved in 50 rounds.\n",
      "[100]\ttrain-auc:0.643596\tvalid-auc:0.623488\n",
      "[200]\ttrain-auc:0.650625\tvalid-auc:0.62985\n",
      "[300]\ttrain-auc:0.654512\tvalid-auc:0.632314\n",
      "[400]\ttrain-auc:0.656982\tvalid-auc:0.633545\n",
      "[500]\ttrain-auc:0.659046\tvalid-auc:0.634122\n",
      "[600]\ttrain-auc:0.660451\tvalid-auc:0.634607\n",
      "[700]\ttrain-auc:0.661799\tvalid-auc:0.63489\n",
      "[800]\ttrain-auc:0.663261\tvalid-auc:0.635279\n",
      "Stopping. Best iteration:\n",
      "[847]\ttrain-auc:0.663899\tvalid-auc:0.63542\n",
      "\n",
      "f1_score: 0.4090774250964106\n",
      "[18:38:14] Tree method is selected to be 'hist', which uses a single updater grow_fast_histmaker.\n",
      "[0]\ttrain-auc:0.59896\tvalid-auc:0.601211\n",
      "Multiple eval metrics have been passed: 'valid-auc' will be used for early stopping.\n",
      "\n",
      "Will train until valid-auc hasn't improved in 50 rounds.\n",
      "[100]\ttrain-auc:0.640377\tvalid-auc:0.63973\n",
      "[200]\ttrain-auc:0.648008\tvalid-auc:0.644692\n",
      "[300]\ttrain-auc:0.65224\tvalid-auc:0.646226\n",
      "[400]\ttrain-auc:0.654581\tvalid-auc:0.646606\n",
      "[500]\ttrain-auc:0.656503\tvalid-auc:0.647103\n",
      "Stopping. Best iteration:\n",
      "[507]\ttrain-auc:0.656616\tvalid-auc:0.647112\n",
      "\n",
      "f1_score: 0.421209858103062\n",
      "[18:38:20] Tree method is selected to be 'hist', which uses a single updater grow_fast_histmaker.\n",
      "[0]\ttrain-auc:0.598275\tvalid-auc:0.590127\n",
      "Multiple eval metrics have been passed: 'valid-auc' will be used for early stopping.\n",
      "\n",
      "Will train until valid-auc hasn't improved in 50 rounds.\n",
      "[100]\ttrain-auc:0.641424\tvalid-auc:0.63264\n",
      "[200]\ttrain-auc:0.648584\tvalid-auc:0.637266\n",
      "[300]\ttrain-auc:0.652204\tvalid-auc:0.639603\n",
      "[400]\ttrain-auc:0.655032\tvalid-auc:0.640407\n",
      "[500]\ttrain-auc:0.657462\tvalid-auc:0.640706\n",
      "[600]\ttrain-auc:0.659236\tvalid-auc:0.641031\n",
      "[700]\ttrain-auc:0.660834\tvalid-auc:0.641174\n",
      "[800]\ttrain-auc:0.662628\tvalid-auc:0.641333\n",
      "[900]\ttrain-auc:0.663873\tvalid-auc:0.64149\n",
      "[999]\ttrain-auc:0.664734\tvalid-auc:0.641641\n",
      "f1_score: 0.42790152403282533\n",
      "[18:38:31] Tree method is selected to be 'hist', which uses a single updater grow_fast_histmaker.\n",
      "[0]\ttrain-auc:0.597391\tvalid-auc:0.586812\n",
      "Multiple eval metrics have been passed: 'valid-auc' will be used for early stopping.\n",
      "\n",
      "Will train until valid-auc hasn't improved in 50 rounds.\n",
      "[100]\ttrain-auc:0.641658\tvalid-auc:0.633601\n",
      "[200]\ttrain-auc:0.649413\tvalid-auc:0.638113\n",
      "[300]\ttrain-auc:0.653552\tvalid-auc:0.639707\n",
      "[400]\ttrain-auc:0.65615\tvalid-auc:0.640526\n",
      "[500]\ttrain-auc:0.658206\tvalid-auc:0.641154\n",
      "[600]\ttrain-auc:0.659464\tvalid-auc:0.641282\n",
      "[700]\ttrain-auc:0.660843\tvalid-auc:0.641325\n",
      "Stopping. Best iteration:\n",
      "[651]\ttrain-auc:0.660067\tvalid-auc:0.641385\n",
      "\n",
      "f1_score: 0.42067629971696713\n",
      "[18:38:40] Tree method is selected to be 'hist', which uses a single updater grow_fast_histmaker.\n",
      "[0]\ttrain-auc:0.602808\tvalid-auc:0.586673\n",
      "Multiple eval metrics have been passed: 'valid-auc' will be used for early stopping.\n",
      "\n",
      "Will train until valid-auc hasn't improved in 50 rounds.\n",
      "[100]\ttrain-auc:0.644826\tvalid-auc:0.624063\n",
      "[200]\ttrain-auc:0.651402\tvalid-auc:0.627712\n",
      "[300]\ttrain-auc:0.655261\tvalid-auc:0.629368\n",
      "[400]\ttrain-auc:0.657617\tvalid-auc:0.630232\n",
      "[500]\ttrain-auc:0.659788\tvalid-auc:0.630635\n",
      "[600]\ttrain-auc:0.661472\tvalid-auc:0.631025\n",
      "[700]\ttrain-auc:0.662779\tvalid-auc:0.6313\n",
      "[800]\ttrain-auc:0.664099\tvalid-auc:0.631591\n",
      "[900]\ttrain-auc:0.665543\tvalid-auc:0.631714\n",
      "[999]\ttrain-auc:0.666575\tvalid-auc:0.632034\n",
      "f1_score: 0.42330040674026725\n",
      "cv score:\n",
      "0.4204619292338591\n",
      "current f1_score: 0.4204619292338591, bagging round: 1\n",
      "[18:38:53] Tree method is selected to be 'hist', which uses a single updater grow_fast_histmaker.\n",
      "[0]\ttrain-auc:0.603749\tvalid-auc:0.592493\n",
      "Multiple eval metrics have been passed: 'valid-auc' will be used for early stopping.\n",
      "\n",
      "Will train until valid-auc hasn't improved in 50 rounds.\n",
      "[100]\ttrain-auc:0.643596\tvalid-auc:0.623488\n",
      "[200]\ttrain-auc:0.650625\tvalid-auc:0.62985\n",
      "[300]\ttrain-auc:0.654512\tvalid-auc:0.632314\n",
      "[400]\ttrain-auc:0.656982\tvalid-auc:0.633545\n",
      "[500]\ttrain-auc:0.659046\tvalid-auc:0.634122\n",
      "[600]\ttrain-auc:0.660451\tvalid-auc:0.634607\n",
      "[700]\ttrain-auc:0.661799\tvalid-auc:0.63489\n",
      "[800]\ttrain-auc:0.663261\tvalid-auc:0.635279\n",
      "Stopping. Best iteration:\n",
      "[847]\ttrain-auc:0.663899\tvalid-auc:0.63542\n",
      "\n",
      "f1_score: 0.4090774250964106\n",
      "[18:39:03] Tree method is selected to be 'hist', which uses a single updater grow_fast_histmaker.\n",
      "[0]\ttrain-auc:0.59896\tvalid-auc:0.601211\n",
      "Multiple eval metrics have been passed: 'valid-auc' will be used for early stopping.\n",
      "\n",
      "Will train until valid-auc hasn't improved in 50 rounds.\n",
      "[100]\ttrain-auc:0.640377\tvalid-auc:0.63973\n",
      "[200]\ttrain-auc:0.648008\tvalid-auc:0.644692\n",
      "[300]\ttrain-auc:0.65224\tvalid-auc:0.646226\n",
      "[400]\ttrain-auc:0.654581\tvalid-auc:0.646606\n",
      "[500]\ttrain-auc:0.656503\tvalid-auc:0.647103\n",
      "Stopping. Best iteration:\n",
      "[507]\ttrain-auc:0.656616\tvalid-auc:0.647112\n",
      "\n",
      "f1_score: 0.421209858103062\n",
      "[18:39:09] Tree method is selected to be 'hist', which uses a single updater grow_fast_histmaker.\n",
      "[0]\ttrain-auc:0.598275\tvalid-auc:0.590127\n",
      "Multiple eval metrics have been passed: 'valid-auc' will be used for early stopping.\n",
      "\n",
      "Will train until valid-auc hasn't improved in 50 rounds.\n",
      "[100]\ttrain-auc:0.641424\tvalid-auc:0.63264\n",
      "[200]\ttrain-auc:0.648584\tvalid-auc:0.637266\n",
      "[300]\ttrain-auc:0.652204\tvalid-auc:0.639603\n",
      "[400]\ttrain-auc:0.655032\tvalid-auc:0.640407\n",
      "[500]\ttrain-auc:0.657462\tvalid-auc:0.640706\n",
      "[600]\ttrain-auc:0.659236\tvalid-auc:0.641031\n",
      "[700]\ttrain-auc:0.660834\tvalid-auc:0.641174\n",
      "[800]\ttrain-auc:0.662628\tvalid-auc:0.641333\n",
      "[900]\ttrain-auc:0.663873\tvalid-auc:0.64149\n",
      "[999]\ttrain-auc:0.664734\tvalid-auc:0.641641\n",
      "f1_score: 0.42790152403282533\n",
      "[18:39:20] Tree method is selected to be 'hist', which uses a single updater grow_fast_histmaker.\n",
      "[0]\ttrain-auc:0.597391\tvalid-auc:0.586812\n",
      "Multiple eval metrics have been passed: 'valid-auc' will be used for early stopping.\n",
      "\n",
      "Will train until valid-auc hasn't improved in 50 rounds.\n",
      "[100]\ttrain-auc:0.641658\tvalid-auc:0.633601\n",
      "[200]\ttrain-auc:0.649413\tvalid-auc:0.638113\n",
      "[300]\ttrain-auc:0.653552\tvalid-auc:0.639707\n",
      "[400]\ttrain-auc:0.65615\tvalid-auc:0.640526\n",
      "[500]\ttrain-auc:0.658206\tvalid-auc:0.641154\n",
      "[600]\ttrain-auc:0.659464\tvalid-auc:0.641282\n",
      "[700]\ttrain-auc:0.660843\tvalid-auc:0.641325\n",
      "Stopping. Best iteration:\n",
      "[651]\ttrain-auc:0.660067\tvalid-auc:0.641385\n",
      "\n",
      "f1_score: 0.42067629971696713\n",
      "[18:39:29] Tree method is selected to be 'hist', which uses a single updater grow_fast_histmaker.\n",
      "[0]\ttrain-auc:0.602808\tvalid-auc:0.586673\n",
      "Multiple eval metrics have been passed: 'valid-auc' will be used for early stopping.\n",
      "\n",
      "Will train until valid-auc hasn't improved in 50 rounds.\n",
      "[100]\ttrain-auc:0.644826\tvalid-auc:0.624063\n",
      "[200]\ttrain-auc:0.651402\tvalid-auc:0.627712\n",
      "[300]\ttrain-auc:0.655261\tvalid-auc:0.629368\n",
      "[400]\ttrain-auc:0.657617\tvalid-auc:0.630232\n",
      "[500]\ttrain-auc:0.659788\tvalid-auc:0.630635\n",
      "[600]\ttrain-auc:0.661472\tvalid-auc:0.631025\n",
      "[700]\ttrain-auc:0.662779\tvalid-auc:0.6313\n",
      "[800]\ttrain-auc:0.664099\tvalid-auc:0.631591\n",
      "[900]\ttrain-auc:0.665543\tvalid-auc:0.631714\n",
      "[999]\ttrain-auc:0.666575\tvalid-auc:0.632034\n",
      "f1_score: 0.42330040674026725\n",
      "cv score:\n",
      "0.4204619292338591\n",
      "current f1_score: 0.4204619292338591, bagging round: 2\n",
      "[18:39:40] Tree method is selected to be 'hist', which uses a single updater grow_fast_histmaker.\n",
      "[0]\ttrain-auc:0.603749\tvalid-auc:0.592493\n",
      "Multiple eval metrics have been passed: 'valid-auc' will be used for early stopping.\n",
      "\n",
      "Will train until valid-auc hasn't improved in 50 rounds.\n",
      "[100]\ttrain-auc:0.643596\tvalid-auc:0.623488\n",
      "[200]\ttrain-auc:0.650625\tvalid-auc:0.62985\n",
      "[300]\ttrain-auc:0.654512\tvalid-auc:0.632314\n",
      "[400]\ttrain-auc:0.656982\tvalid-auc:0.633545\n",
      "[500]\ttrain-auc:0.659046\tvalid-auc:0.634122\n",
      "[600]\ttrain-auc:0.660451\tvalid-auc:0.634607\n",
      "[700]\ttrain-auc:0.661799\tvalid-auc:0.63489\n",
      "[800]\ttrain-auc:0.663261\tvalid-auc:0.635279\n",
      "Stopping. Best iteration:\n",
      "[847]\ttrain-auc:0.663899\tvalid-auc:0.63542\n",
      "\n",
      "f1_score: 0.4090774250964106\n",
      "[18:39:50] Tree method is selected to be 'hist', which uses a single updater grow_fast_histmaker.\n",
      "[0]\ttrain-auc:0.59896\tvalid-auc:0.601211\n",
      "Multiple eval metrics have been passed: 'valid-auc' will be used for early stopping.\n",
      "\n",
      "Will train until valid-auc hasn't improved in 50 rounds.\n"
     ]
    },
    {
     "name": "stdout",
     "output_type": "stream",
     "text": [
      "[100]\ttrain-auc:0.640377\tvalid-auc:0.63973\n",
      "[200]\ttrain-auc:0.648008\tvalid-auc:0.644692\n",
      "[300]\ttrain-auc:0.65224\tvalid-auc:0.646226\n",
      "[400]\ttrain-auc:0.654581\tvalid-auc:0.646606\n",
      "[500]\ttrain-auc:0.656503\tvalid-auc:0.647103\n",
      "Stopping. Best iteration:\n",
      "[507]\ttrain-auc:0.656616\tvalid-auc:0.647112\n",
      "\n",
      "f1_score: 0.421209858103062\n",
      "[18:39:56] Tree method is selected to be 'hist', which uses a single updater grow_fast_histmaker.\n",
      "[0]\ttrain-auc:0.598275\tvalid-auc:0.590127\n",
      "Multiple eval metrics have been passed: 'valid-auc' will be used for early stopping.\n",
      "\n",
      "Will train until valid-auc hasn't improved in 50 rounds.\n",
      "[100]\ttrain-auc:0.641424\tvalid-auc:0.63264\n",
      "[200]\ttrain-auc:0.648584\tvalid-auc:0.637266\n",
      "[300]\ttrain-auc:0.652204\tvalid-auc:0.639603\n",
      "[400]\ttrain-auc:0.655032\tvalid-auc:0.640407\n",
      "[500]\ttrain-auc:0.657462\tvalid-auc:0.640706\n",
      "[600]\ttrain-auc:0.659236\tvalid-auc:0.641031\n",
      "[700]\ttrain-auc:0.660834\tvalid-auc:0.641174\n",
      "[800]\ttrain-auc:0.662628\tvalid-auc:0.641333\n",
      "[900]\ttrain-auc:0.663873\tvalid-auc:0.64149\n",
      "[999]\ttrain-auc:0.664734\tvalid-auc:0.641641\n",
      "f1_score: 0.42790152403282533\n",
      "[18:40:07] Tree method is selected to be 'hist', which uses a single updater grow_fast_histmaker.\n",
      "[0]\ttrain-auc:0.597391\tvalid-auc:0.586812\n",
      "Multiple eval metrics have been passed: 'valid-auc' will be used for early stopping.\n",
      "\n",
      "Will train until valid-auc hasn't improved in 50 rounds.\n",
      "[100]\ttrain-auc:0.641658\tvalid-auc:0.633601\n",
      "[200]\ttrain-auc:0.649413\tvalid-auc:0.638113\n",
      "[300]\ttrain-auc:0.653552\tvalid-auc:0.639707\n",
      "[400]\ttrain-auc:0.65615\tvalid-auc:0.640526\n",
      "[500]\ttrain-auc:0.658206\tvalid-auc:0.641154\n",
      "[600]\ttrain-auc:0.659464\tvalid-auc:0.641282\n",
      "[700]\ttrain-auc:0.660843\tvalid-auc:0.641325\n",
      "Stopping. Best iteration:\n",
      "[651]\ttrain-auc:0.660067\tvalid-auc:0.641385\n",
      "\n",
      "f1_score: 0.42067629971696713\n",
      "[18:40:16] Tree method is selected to be 'hist', which uses a single updater grow_fast_histmaker.\n",
      "[0]\ttrain-auc:0.602808\tvalid-auc:0.586673\n",
      "Multiple eval metrics have been passed: 'valid-auc' will be used for early stopping.\n",
      "\n",
      "Will train until valid-auc hasn't improved in 50 rounds.\n",
      "[100]\ttrain-auc:0.644826\tvalid-auc:0.624063\n",
      "[200]\ttrain-auc:0.651402\tvalid-auc:0.627712\n",
      "[300]\ttrain-auc:0.655261\tvalid-auc:0.629368\n",
      "[400]\ttrain-auc:0.657617\tvalid-auc:0.630232\n",
      "[500]\ttrain-auc:0.659788\tvalid-auc:0.630635\n",
      "[600]\ttrain-auc:0.661472\tvalid-auc:0.631025\n",
      "[700]\ttrain-auc:0.662779\tvalid-auc:0.6313\n",
      "[800]\ttrain-auc:0.664099\tvalid-auc:0.631591\n",
      "[900]\ttrain-auc:0.665543\tvalid-auc:0.631714\n",
      "[999]\ttrain-auc:0.666575\tvalid-auc:0.632034\n",
      "f1_score: 0.42330040674026725\n",
      "cv score:\n",
      "0.4204619292338591\n",
      "current f1_score: 0.4204619292338591, bagging round: 3\n",
      "[18:40:27] Tree method is selected to be 'hist', which uses a single updater grow_fast_histmaker.\n",
      "[0]\ttrain-auc:0.603749\tvalid-auc:0.592493\n",
      "Multiple eval metrics have been passed: 'valid-auc' will be used for early stopping.\n",
      "\n",
      "Will train until valid-auc hasn't improved in 50 rounds.\n",
      "[100]\ttrain-auc:0.643596\tvalid-auc:0.623488\n",
      "[200]\ttrain-auc:0.650625\tvalid-auc:0.62985\n",
      "[300]\ttrain-auc:0.654512\tvalid-auc:0.632314\n",
      "[400]\ttrain-auc:0.656982\tvalid-auc:0.633545\n",
      "[500]\ttrain-auc:0.659046\tvalid-auc:0.634122\n",
      "[600]\ttrain-auc:0.660451\tvalid-auc:0.634607\n",
      "[700]\ttrain-auc:0.661799\tvalid-auc:0.63489\n",
      "[800]\ttrain-auc:0.663261\tvalid-auc:0.635279\n",
      "Stopping. Best iteration:\n",
      "[847]\ttrain-auc:0.663899\tvalid-auc:0.63542\n",
      "\n",
      "f1_score: 0.4090774250964106\n",
      "[18:40:37] Tree method is selected to be 'hist', which uses a single updater grow_fast_histmaker.\n",
      "[0]\ttrain-auc:0.59896\tvalid-auc:0.601211\n",
      "Multiple eval metrics have been passed: 'valid-auc' will be used for early stopping.\n",
      "\n",
      "Will train until valid-auc hasn't improved in 50 rounds.\n",
      "[100]\ttrain-auc:0.640377\tvalid-auc:0.63973\n",
      "[200]\ttrain-auc:0.648008\tvalid-auc:0.644692\n",
      "[300]\ttrain-auc:0.65224\tvalid-auc:0.646226\n",
      "[400]\ttrain-auc:0.654581\tvalid-auc:0.646606\n",
      "[500]\ttrain-auc:0.656503\tvalid-auc:0.647103\n",
      "Stopping. Best iteration:\n",
      "[507]\ttrain-auc:0.656616\tvalid-auc:0.647112\n",
      "\n",
      "f1_score: 0.421209858103062\n",
      "[18:40:45] Tree method is selected to be 'hist', which uses a single updater grow_fast_histmaker.\n",
      "[0]\ttrain-auc:0.598275\tvalid-auc:0.590127\n",
      "Multiple eval metrics have been passed: 'valid-auc' will be used for early stopping.\n",
      "\n",
      "Will train until valid-auc hasn't improved in 50 rounds.\n",
      "[100]\ttrain-auc:0.641424\tvalid-auc:0.63264\n",
      "[200]\ttrain-auc:0.648584\tvalid-auc:0.637266\n",
      "[300]\ttrain-auc:0.652204\tvalid-auc:0.639603\n",
      "[400]\ttrain-auc:0.655032\tvalid-auc:0.640407\n",
      "[500]\ttrain-auc:0.657462\tvalid-auc:0.640706\n",
      "[600]\ttrain-auc:0.659236\tvalid-auc:0.641031\n",
      "[700]\ttrain-auc:0.660834\tvalid-auc:0.641174\n",
      "[800]\ttrain-auc:0.662628\tvalid-auc:0.641333\n",
      "[900]\ttrain-auc:0.663873\tvalid-auc:0.64149\n",
      "[999]\ttrain-auc:0.664734\tvalid-auc:0.641641\n",
      "f1_score: 0.42790152403282533\n",
      "[18:40:56] Tree method is selected to be 'hist', which uses a single updater grow_fast_histmaker.\n",
      "[0]\ttrain-auc:0.597391\tvalid-auc:0.586812\n",
      "Multiple eval metrics have been passed: 'valid-auc' will be used for early stopping.\n",
      "\n",
      "Will train until valid-auc hasn't improved in 50 rounds.\n",
      "[100]\ttrain-auc:0.641658\tvalid-auc:0.633601\n",
      "[200]\ttrain-auc:0.649413\tvalid-auc:0.638113\n",
      "[300]\ttrain-auc:0.653552\tvalid-auc:0.639707\n",
      "[400]\ttrain-auc:0.65615\tvalid-auc:0.640526\n",
      "[500]\ttrain-auc:0.658206\tvalid-auc:0.641154\n",
      "[600]\ttrain-auc:0.659464\tvalid-auc:0.641282\n",
      "[700]\ttrain-auc:0.660843\tvalid-auc:0.641325\n",
      "Stopping. Best iteration:\n",
      "[651]\ttrain-auc:0.660067\tvalid-auc:0.641385\n",
      "\n",
      "f1_score: 0.42067629971696713\n",
      "[18:41:04] Tree method is selected to be 'hist', which uses a single updater grow_fast_histmaker.\n",
      "[0]\ttrain-auc:0.602808\tvalid-auc:0.586673\n",
      "Multiple eval metrics have been passed: 'valid-auc' will be used for early stopping.\n",
      "\n",
      "Will train until valid-auc hasn't improved in 50 rounds.\n",
      "[100]\ttrain-auc:0.644826\tvalid-auc:0.624063\n",
      "[200]\ttrain-auc:0.651402\tvalid-auc:0.627712\n",
      "[300]\ttrain-auc:0.655261\tvalid-auc:0.629368\n",
      "[400]\ttrain-auc:0.657617\tvalid-auc:0.630232\n",
      "[500]\ttrain-auc:0.659788\tvalid-auc:0.630635\n",
      "[600]\ttrain-auc:0.661472\tvalid-auc:0.631025\n",
      "[700]\ttrain-auc:0.662779\tvalid-auc:0.6313\n",
      "[800]\ttrain-auc:0.664099\tvalid-auc:0.631591\n",
      "[900]\ttrain-auc:0.665543\tvalid-auc:0.631714\n",
      "[999]\ttrain-auc:0.666575\tvalid-auc:0.632034\n",
      "f1_score: 0.42330040674026725\n",
      "cv score:\n",
      "0.4204619292338591\n",
      "current f1_score: 0.4204619292338591, bagging round: 4\n"
     ]
    }
   ],
   "source": [
    "x_score = []\n",
    "final_cv_train = np.zeros(len(y))\n",
    "final_cv_pred = np.zeros(len(test_id))\n",
    "for s in range(4):\n",
    "    cv_train = np.zeros(len(y))\n",
    "    cv_pred = np.zeros(len(test_id))\n",
    "\n",
    "    params['seed'] = SEED\n",
    "\n",
    "    \n",
    "    kf = kfold.split(X, y)\n",
    "\n",
    "    best_trees = []\n",
    "    fold_scores = []\n",
    "\n",
    "    for i, (train_fold, valid) in enumerate(kf):\n",
    "        X_tr, X_val, y_tr, y_val = X[train_fold, :], X[valid, :], y[train_fold], y[valid]\n",
    "            \n",
    "        dtrain = xgb.DMatrix(data = X_tr, label= y_tr)\n",
    "        dvalid = xgb.DMatrix(data = X_val, label=y_val)        \n",
    "        bst = xgb.train(xgb_params, dtrain=dtrain, num_boost_round=1000,\n",
    "                        evals = [(dtrain, 'train'), (dvalid, 'valid')],  maximize = True, verbose_eval = 100,\n",
    "                        early_stopping_rounds = 50)             \n",
    "        \n",
    "        cv_pred += bst.predict(dtest)\n",
    "        cv_train[valid] += bst.predict(dvalid)\n",
    "\n",
    "        score = f1(y_val, cv_train[valid])\n",
    "        print(\"f1_score: {}\".format(score))\n",
    "        fold_scores.append(score)\n",
    "\n",
    "    cv_pred /= NFOLDS\n",
    "    final_cv_train += cv_train\n",
    "    final_cv_pred += cv_pred\n",
    "\n",
    "    print(\"cv score:\")\n",
    "    print(f1(y, cv_train))\n",
    "    print(\"current f1_score: {0}, bagging round: {1}\".format(f1(y, final_cv_train / (s + 1.)), s+1))\n",
    "    x_score.append(f1(y, cv_train))\n"
   ]
  },
  {
   "cell_type": "code",
   "execution_count": 106,
   "metadata": {},
   "outputs": [
    {
     "name": "stdout",
     "output_type": "stream",
     "text": [
      "[0.4204619292338591, 0.4204619292338591, 0.4204619292338591, 0.4204619292338591]\n"
     ]
    },
    {
     "data": {
      "text/html": [
       "<div>\n",
       "<style>\n",
       "    .dataframe thead tr:only-child th {\n",
       "        text-align: right;\n",
       "    }\n",
       "\n",
       "    .dataframe thead th {\n",
       "        text-align: left;\n",
       "    }\n",
       "\n",
       "    .dataframe tbody tr th {\n",
       "        vertical-align: top;\n",
       "    }\n",
       "</style>\n",
       "<table border=\"1\" class=\"dataframe\">\n",
       "  <thead>\n",
       "    <tr style=\"text-align: right;\">\n",
       "      <th></th>\n",
       "      <th>id</th>\n",
       "      <th>target</th>\n",
       "    </tr>\n",
       "  </thead>\n",
       "  <tbody>\n",
       "    <tr>\n",
       "      <th>0</th>\n",
       "      <td>0</td>\n",
       "      <td>0</td>\n",
       "    </tr>\n",
       "    <tr>\n",
       "      <th>1</th>\n",
       "      <td>1</td>\n",
       "      <td>0</td>\n",
       "    </tr>\n",
       "    <tr>\n",
       "      <th>2</th>\n",
       "      <td>2</td>\n",
       "      <td>0</td>\n",
       "    </tr>\n",
       "    <tr>\n",
       "      <th>3</th>\n",
       "      <td>3</td>\n",
       "      <td>0</td>\n",
       "    </tr>\n",
       "    <tr>\n",
       "      <th>4</th>\n",
       "      <td>4</td>\n",
       "      <td>0</td>\n",
       "    </tr>\n",
       "  </tbody>\n",
       "</table>\n",
       "</div>"
      ],
      "text/plain": [
       "   id  target\n",
       "0   0       0\n",
       "1   1       0\n",
       "2   2       0\n",
       "3   3       0\n",
       "4   4       0"
      ]
     },
     "execution_count": 106,
     "metadata": {},
     "output_type": "execute_result"
    }
   ],
   "source": [
    "print(x_score)\n",
    "test_pred = final_cv_pred / 4.\n",
    "test_pred = np.where(test_pred > 0.5, 1, 0)\n",
    "sub = pd.DataFrame({'id': test_id, 'target': test_pred})\n",
    "sub.head(5)"
   ]
  },
  {
   "cell_type": "code",
   "execution_count": 107,
   "metadata": {
    "collapsed": true
   },
   "outputs": [],
   "source": [
    "sub.to_csv('submission/xgb_pred_avg.csv', index=False)"
   ]
  },
  {
   "cell_type": "code",
   "execution_count": null,
   "metadata": {
    "collapsed": true
   },
   "outputs": [],
   "source": []
  }
 ],
 "metadata": {
  "kernelspec": {
   "display_name": "Python 3",
   "language": "python",
   "name": "python3"
  },
  "language_info": {
   "codemirror_mode": {
    "name": "ipython",
    "version": 3
   },
   "file_extension": ".py",
   "mimetype": "text/x-python",
   "name": "python",
   "nbconvert_exporter": "python",
   "pygments_lexer": "ipython3",
   "version": "3.5.2"
  }
 },
 "nbformat": 4,
 "nbformat_minor": 2
}
